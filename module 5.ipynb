{
 "cells": [
  {
   "cell_type": "code",
   "execution_count": null,
   "id": "71250ce1",
   "metadata": {},
   "outputs": [],
   "source": [
    "# Why Django should be used for web-development? Explain how you can\n",
    "# create a project in Django?\n",
    "\n",
    "--> Django is the best framework for web applications, as it allows developers \n",
    "to use modules for faster development. As a developer, you can make use of \n",
    "these modules to create apps, websites from an existing source. It speeds up\n",
    "the development process greatly, as you do not have to code everything from \n",
    "scratch."
   ]
  },
  {
   "cell_type": "code",
   "execution_count": null,
   "id": "01d6f12f",
   "metadata": {},
   "outputs": [],
   "source": [
    "# How to check installed version of django? \n",
    "--> The very first method to check the version of Django is simply to write\n",
    "python -m django –version in your terminal. This code will return the version\n",
    "of your Django in the format 3.2. 9."
   ]
  },
  {
   "cell_type": "code",
   "execution_count": null,
   "id": "aefe0860",
   "metadata": {},
   "outputs": [],
   "source": [
    "# Mention what command line can be used to load data into Django? \n",
    "--> To load data into Django you have to use the command line Django-admin.py\n",
    "loaddata."
   ]
  },
  {
   "cell_type": "code",
   "execution_count": null,
   "id": "1f1de522",
   "metadata": {},
   "outputs": [],
   "source": [
    "# Explain what does django-admin.py make messages command is used for? \n",
    " -->Runs over the entire source tree of the current directory and pulls out all \n",
    "    strings marked for translation. It creates (or updates) a message file in\n",
    "    the conf/locale (in the Django tree) or locale\n",
    "    (for project and application) directory."
   ]
  },
  {
   "cell_type": "code",
   "execution_count": null,
   "id": "842d9de2",
   "metadata": {},
   "outputs": [],
   "source": [
    "# What is .Django URLs?make program to create django urls \n",
    "-->URLconf is a set of patterns that Django will try to match the requested URL\n",
    "to find the correct view."
   ]
  },
  {
   "cell_type": "code",
   "execution_count": null,
   "id": "0d57259c",
   "metadata": {},
   "outputs": [],
   "source": [
    "# What is a QuerySet?Write program to create a new Post object in database:\n",
    "-->A QuerySet represents a collection of objects from your database. It can\n",
    "have zero, one or many filters. Filters narrow down the query results based on\n",
    "the given parameters. In SQL terms, a QuerySet equates to a SELECT statement,\n",
    "and a filter is a limiting clause such as WHERE or LIMIT ."
   ]
  },
  {
   "cell_type": "code",
   "execution_count": null,
   "id": "f0aa774d",
   "metadata": {},
   "outputs": [],
   "source": [
    "# • Mention what command line can be used to load data into Django? \n",
    "-->{% load static %}"
   ]
  },
  {
   "cell_type": "code",
   "execution_count": null,
   "id": "8c58292e",
   "metadata": {},
   "outputs": [],
   "source": [
    "# Explain what does django-admin.py make messages command is used for?\n",
    "--> Runs over the entire source tree of the current directory and pulls out all\n",
    "strings marked for translation. It creates (or updates) a message file in the \n",
    "conf/locale (in the Django tree) or locale (for project and application)\n",
    "directory."
   ]
  }
 ],
 "metadata": {
  "kernelspec": {
   "display_name": "Python 3 (ipykernel)",
   "language": "python",
   "name": "python3"
  },
  "language_info": {
   "codemirror_mode": {
    "name": "ipython",
    "version": 3
   },
   "file_extension": ".py",
   "mimetype": "text/x-python",
   "name": "python",
   "nbconvert_exporter": "python",
   "pygments_lexer": "ipython3",
   "version": "3.9.13"
  }
 },
 "nbformat": 4,
 "nbformat_minor": 5
}
